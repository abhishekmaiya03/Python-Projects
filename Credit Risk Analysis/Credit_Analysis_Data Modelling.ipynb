{
 "cells": [
  {
   "cell_type": "code",
   "execution_count": 7,
   "id": "676010bd",
   "metadata": {},
   "outputs": [],
   "source": [
    "import pandas as pd\n",
    "import numpy as np\n",
    "from sklearn.model_selection import train_test_split\n",
    "from sklearn.preprocessing import StandardScaler, LabelEncoder\n",
    "from sklearn.linear_model import LogisticRegression\n",
    "from sklearn.metrics import accuracy_score, classification_report, roc_auc_score\n",
    "import xgboost as xgb\n",
    "import shap\n",
    "import matplotlib.pyplot as plt\n",
    "import seaborn as sns\n",
    "\n",
    "# Monkey patch numpy int deprecation\n",
    "np.int = int\n",
    "\n",
    "# Set modern style for visualizations\n",
    "sns.set_theme(style=\"whitegrid\")\n",
    "%matplotlib inline"
   ]
  },
  {
   "cell_type": "markdown",
   "id": "82251a5f",
   "metadata": {},
   "source": [
    "# Data loading and Preprocessing "
   ]
  },
  {
   "cell_type": "code",
   "execution_count": 38,
   "id": "7189731d",
   "metadata": {},
   "outputs": [],
   "source": [
    "# Load the data with correct delimiter\n",
    "df = pd.read_csv('credit_chart.csv', sep=';')\n",
    "\n",
    "# Separate features and target\n",
    "X = df.drop('Creditability', axis=1)\n",
    "Y = df['Creditability']"
   ]
  },
  {
   "cell_type": "markdown",
   "id": "a3fa9675",
   "metadata": {},
   "source": [
    "# Featuring Engineering"
   ]
  },
  {
   "cell_type": "code",
   "execution_count": 35,
   "id": "4cd65ab9",
   "metadata": {},
   "outputs": [],
   "source": [
    "numerical_cols = ['Duration_of_Credit_monthly', 'Credit_Amount', 'Age_years', 'No_of_Credits_at_this_Bank']\n",
    "categorical_cols = [col for col in X.columns if col not in numerical_cols]\n",
    "\n",
    "#creating label encoder for categorical variables\n",
    "label_encoders={}\n",
    "for col in categorical_cols:\n",
    "    label_encoders[col] = LabelEncoder()\n",
    "    X[col] = label_encoders[col].fit_transform(X[col])\n",
    "    \n",
    "# Replace zero in duration to avoid division by zero (if any)\n",
    "X['Duration_of_Credit_monthly'].replace(0, np.nan, inplace=True)\n",
    "\n",
    "# Calculate safely\n",
    "X['Credit_Amount_Per_Month'] = X['Credit_Amount'] / X['Duration_of_Credit_monthly']\n",
    "\n",
    "# Drop or fill any resulting NaNs or infinities\n",
    "X['Credit_Amount_Per_Month'].replace([np.inf, -np.inf], np.nan, inplace=True)\n",
    "X.dropna(subset=['Credit_Amount_Per_Month'], inplace=True)\n",
    "    \n",
    "\n",
    "#Scale numerical features\n",
    "scaler = StandardScaler()\n",
    "X[numerical_cols + ['Credit_Amount_Per_Month']] = scaler.fit_transform(X[numerical_cols + ['Credit_Amount_Per_Month']])"
   ]
  },
  {
   "cell_type": "code",
   "execution_count": 36,
   "id": "96032913",
   "metadata": {},
   "outputs": [
    {
     "data": {
      "text/html": [
       "<div>\n",
       "<style scoped>\n",
       "    .dataframe tbody tr th:only-of-type {\n",
       "        vertical-align: middle;\n",
       "    }\n",
       "\n",
       "    .dataframe tbody tr th {\n",
       "        vertical-align: top;\n",
       "    }\n",
       "\n",
       "    .dataframe thead th {\n",
       "        text-align: right;\n",
       "    }\n",
       "</style>\n",
       "<table border=\"1\" class=\"dataframe\">\n",
       "  <thead>\n",
       "    <tr style=\"text-align: right;\">\n",
       "      <th></th>\n",
       "      <th>Duration_of_Credit_monthly</th>\n",
       "      <th>Credit_Amount</th>\n",
       "      <th>Age_years</th>\n",
       "      <th>No_of_Credits_at_this_Bank</th>\n",
       "      <th>Credit_Amount_Per_Month</th>\n",
       "    </tr>\n",
       "  </thead>\n",
       "  <tbody>\n",
       "    <tr>\n",
       "      <th>0</th>\n",
       "      <td>-0.107268</td>\n",
       "      <td>-0.789704</td>\n",
       "      <td>-1.279195</td>\n",
       "      <td>-0.704660</td>\n",
       "      <td>-0.498671</td>\n",
       "    </tr>\n",
       "    <tr>\n",
       "      <th>1</th>\n",
       "      <td>-1.178871</td>\n",
       "      <td>-0.170524</td>\n",
       "      <td>0.040448</td>\n",
       "      <td>1.037709</td>\n",
       "      <td>0.655487</td>\n",
       "    </tr>\n",
       "    <tr>\n",
       "      <th>2</th>\n",
       "      <td>-0.777020</td>\n",
       "      <td>-0.863298</td>\n",
       "      <td>-1.103243</td>\n",
       "      <td>-0.704660</td>\n",
       "      <td>-0.439814</td>\n",
       "    </tr>\n",
       "    <tr>\n",
       "      <th>3</th>\n",
       "      <td>-0.777020</td>\n",
       "      <td>-0.410059</td>\n",
       "      <td>0.304376</td>\n",
       "      <td>1.037709</td>\n",
       "      <td>-0.054077</td>\n",
       "    </tr>\n",
       "    <tr>\n",
       "      <th>4</th>\n",
       "      <td>-0.777020</td>\n",
       "      <td>-0.392722</td>\n",
       "      <td>0.216400</td>\n",
       "      <td>1.037709</td>\n",
       "      <td>-0.039322</td>\n",
       "    </tr>\n",
       "    <tr>\n",
       "      <th>...</th>\n",
       "      <td>...</td>\n",
       "      <td>...</td>\n",
       "      <td>...</td>\n",
       "      <td>...</td>\n",
       "      <td>...</td>\n",
       "    </tr>\n",
       "    <tr>\n",
       "      <th>995</th>\n",
       "      <td>0.428533</td>\n",
       "      <td>-0.457824</td>\n",
       "      <td>-1.279195</td>\n",
       "      <td>-0.704660</td>\n",
       "      <td>-0.411491</td>\n",
       "    </tr>\n",
       "    <tr>\n",
       "      <th>996</th>\n",
       "      <td>0.428533</td>\n",
       "      <td>-0.346018</td>\n",
       "      <td>0.832234</td>\n",
       "      <td>-0.704660</td>\n",
       "      <td>-0.366712</td>\n",
       "    </tr>\n",
       "    <tr>\n",
       "      <th>997</th>\n",
       "      <td>0.160633</td>\n",
       "      <td>3.325541</td>\n",
       "      <td>-0.487409</td>\n",
       "      <td>-0.704660</td>\n",
       "      <td>1.343329</td>\n",
       "    </tr>\n",
       "    <tr>\n",
       "      <th>998</th>\n",
       "      <td>-0.777020</td>\n",
       "      <td>1.127630</td>\n",
       "      <td>1.448067</td>\n",
       "      <td>-0.704660</td>\n",
       "      <td>1.254599</td>\n",
       "    </tr>\n",
       "    <tr>\n",
       "      <th>999</th>\n",
       "      <td>0.964335</td>\n",
       "      <td>1.085880</td>\n",
       "      <td>-0.399433</td>\n",
       "      <td>-0.704660</td>\n",
       "      <td>0.035371</td>\n",
       "    </tr>\n",
       "  </tbody>\n",
       "</table>\n",
       "<p>994 rows × 5 columns</p>\n",
       "</div>"
      ],
      "text/plain": [
       "     Duration_of_Credit_monthly  Credit_Amount  Age_years  \\\n",
       "0                     -0.107268      -0.789704  -1.279195   \n",
       "1                     -1.178871      -0.170524   0.040448   \n",
       "2                     -0.777020      -0.863298  -1.103243   \n",
       "3                     -0.777020      -0.410059   0.304376   \n",
       "4                     -0.777020      -0.392722   0.216400   \n",
       "..                          ...            ...        ...   \n",
       "995                    0.428533      -0.457824  -1.279195   \n",
       "996                    0.428533      -0.346018   0.832234   \n",
       "997                    0.160633       3.325541  -0.487409   \n",
       "998                   -0.777020       1.127630   1.448067   \n",
       "999                    0.964335       1.085880  -0.399433   \n",
       "\n",
       "     No_of_Credits_at_this_Bank  Credit_Amount_Per_Month  \n",
       "0                     -0.704660                -0.498671  \n",
       "1                      1.037709                 0.655487  \n",
       "2                     -0.704660                -0.439814  \n",
       "3                      1.037709                -0.054077  \n",
       "4                      1.037709                -0.039322  \n",
       "..                          ...                      ...  \n",
       "995                   -0.704660                -0.411491  \n",
       "996                   -0.704660                -0.366712  \n",
       "997                   -0.704660                 1.343329  \n",
       "998                   -0.704660                 1.254599  \n",
       "999                   -0.704660                 0.035371  \n",
       "\n",
       "[994 rows x 5 columns]"
      ]
     },
     "execution_count": 36,
     "metadata": {},
     "output_type": "execute_result"
    }
   ],
   "source": [
    "X[numerical_cols + ['Credit_Amount_Per_Month']]"
   ]
  },
  {
   "cell_type": "code",
   "execution_count": 12,
   "id": "36a87f46",
   "metadata": {},
   "outputs": [
    {
     "data": {
      "text/plain": [
       "Index(['Creditability', 'Account_Balance', 'Duration_of_Credit_monthly',\n",
       "       'Payment_Status_of_Previous_Credit', 'Purpose', 'Credit_Amount',\n",
       "       'Value_Savings_Stocks', 'Length_of_current_employment',\n",
       "       'Instalment_per_cent', 'Sex_Marital_Status', 'Guarantors',\n",
       "       'Duration_in_Current_address', 'Most_valuable_available_asset',\n",
       "       'Age_years', 'Concurrent_Credits', 'Type_of_apartment',\n",
       "       'No_of_Credits_at_this_Bank', 'Occupation', 'No_of_dependents',\n",
       "       'Telephone', 'Foreign_Worker'],\n",
       "      dtype='object')"
      ]
     },
     "execution_count": 12,
     "metadata": {},
     "output_type": "execute_result"
    }
   ],
   "source": [
    "df.columns"
   ]
  },
  {
   "cell_type": "code",
   "execution_count": 47,
   "id": "f556e485",
   "metadata": {},
   "outputs": [
    {
     "name": "stdout",
     "output_type": "stream",
     "text": [
      "Logistic Regression Results:\n",
      "Accuracy: 0.78\n",
      "\n",
      "Classification Report:\n",
      "              precision    recall  f1-score   support\n",
      "\n",
      "           0       0.65      0.49      0.56        57\n",
      "           1       0.82      0.90      0.85       143\n",
      "\n",
      "    accuracy                           0.78       200\n",
      "   macro avg       0.73      0.69      0.71       200\n",
      "weighted avg       0.77      0.78      0.77       200\n",
      "\n",
      "ROC AUC Score: 0.7390504232609495\n"
     ]
    },
    {
     "name": "stderr",
     "output_type": "stream",
     "text": [
      "C:\\Users\\abhis\\anaconda3\\Lib\\site-packages\\sklearn\\linear_model\\_logistic.py:460: ConvergenceWarning: lbfgs failed to converge (status=1):\n",
      "STOP: TOTAL NO. of ITERATIONS REACHED LIMIT.\n",
      "\n",
      "Increase the number of iterations (max_iter) or scale the data as shown in:\n",
      "    https://scikit-learn.org/stable/modules/preprocessing.html\n",
      "Please also refer to the documentation for alternative solver options:\n",
      "    https://scikit-learn.org/stable/modules/linear_model.html#logistic-regression\n",
      "  n_iter_i = _check_optimize_result(\n"
     ]
    }
   ],
   "source": [
    "# split the data\n",
    "X_train, X_test, Y_train, Y_test = train_test_split(X, Y, test_size=0.2, random_state=45)\n",
    "\n",
    "#Model\n",
    "lr_model = LogisticRegression()\n",
    "lr_model.fit(X_train, Y_train)\n",
    "\n",
    "#Evaluate\n",
    "lr_pred=lr_model.predict(X_test)\n",
    "lr_pred_proba=lr_model.predict_proba(X_test)[:,1]\n",
    "\n",
    "\n",
    "\n",
    "print(\"Logistic Regression Results:\")\n",
    "print(\"Accuracy:\", accuracy_score(Y_test, lr_pred))\n",
    "print(\"\\nClassification Report:\")\n",
    "print(classification_report(Y_test, lr_pred))\n",
    "print(\"ROC AUC Score:\", roc_auc_score(Y_test, lr_pred_proba))\n",
    "\n",
    "\n",
    "\n"
   ]
  },
  {
   "cell_type": "code",
   "execution_count": 49,
   "id": "d9c2c573",
   "metadata": {},
   "outputs": [
    {
     "name": "stdout",
     "output_type": "stream",
     "text": [
      "XGBoost Results:\n",
      "Accuracy: 0.765\n",
      "\n",
      "Classification Report:\n",
      "              precision    recall  f1-score   support\n",
      "\n",
      "           0       0.60      0.53      0.56        57\n",
      "           1       0.82      0.86      0.84       143\n",
      "\n",
      "    accuracy                           0.77       200\n",
      "   macro avg       0.71      0.69      0.70       200\n",
      "weighted avg       0.76      0.77      0.76       200\n",
      "\n",
      "ROC AUC Score: 0.7335296282664704\n"
     ]
    }
   ],
   "source": [
    "# 2. XGBoost Model\n",
    "xgb_model = xgb.XGBClassifier(random_state=42)\n",
    "xgb_model.fit(X_train, Y_train)\n",
    "\n",
    "# Evaluate XGBoost\n",
    "xgb_pred = xgb_model.predict(X_test)\n",
    "xgb_pred_proba = xgb_model.predict_proba(X_test)[:, 1]\n",
    "\n",
    "print(\"XGBoost Results:\")\n",
    "print(\"Accuracy:\", accuracy_score(Y_test, xgb_pred))\n",
    "print(\"\\nClassification Report:\")\n",
    "print(classification_report(Y_test, xgb_pred))\n",
    "print(\"ROC AUC Score:\", roc_auc_score(Y_test, xgb_pred_proba))"
   ]
  },
  {
   "cell_type": "code",
   "execution_count": null,
   "id": "15dd6b8a",
   "metadata": {},
   "outputs": [],
   "source": []
  }
 ],
 "metadata": {
  "kernelspec": {
   "display_name": "Python 3 (ipykernel)",
   "language": "python",
   "name": "python3"
  },
  "language_info": {
   "codemirror_mode": {
    "name": "ipython",
    "version": 3
   },
   "file_extension": ".py",
   "mimetype": "text/x-python",
   "name": "python",
   "nbconvert_exporter": "python",
   "pygments_lexer": "ipython3",
   "version": "3.11.5"
  }
 },
 "nbformat": 4,
 "nbformat_minor": 5
}
