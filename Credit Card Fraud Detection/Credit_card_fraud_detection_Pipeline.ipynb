{
 "cells": [
  {
   "cell_type": "code",
   "execution_count": 1,
   "id": "d7fc2014-4ff6-4e9a-a0f0-438419f1c97a",
   "metadata": {},
   "outputs": [],
   "source": [
    "import pandas as pd\n",
    "import pickle\n",
    "from sklearn.linear_model import LogisticRegression\n",
    "from sklearn.model_selection import train_test_split\n",
    "from sklearn.metrics import accuracy_score"
   ]
  },
  {
   "cell_type": "code",
   "execution_count": 3,
   "id": "7fa92407-4f7c-4323-806f-989ddfa68f14",
   "metadata": {},
   "outputs": [],
   "source": [
    "# ---------- STEP 1: Load and prepare data ----------\n",
    "def load_data(filepath):\n",
    "    df = pd.read_csv(filepath)\n",
    "    X = df.drop(columns='Class', axis=1)\n",
    "    Y = df['Class']\n",
    "    return train_test_split(X, Y, test_size=0.2, stratify=Y, random_state=2)\n"
   ]
  },
  {
   "cell_type": "code",
   "execution_count": 5,
   "id": "cd5e1702-8e44-4142-9c4c-4da5559ed62f",
   "metadata": {},
   "outputs": [],
   "source": [
    "# ---------- STEP 2: Train model ----------\n",
    "def train_model(X_train, Y_train):\n",
    "    model = LogisticRegression()\n",
    "    model.fit(X_train, Y_train)\n",
    "    return model"
   ]
  },
  {
   "cell_type": "code",
   "execution_count": 7,
   "id": "65069d05-07ed-4987-8c07-d17cf24763fa",
   "metadata": {},
   "outputs": [],
   "source": [
    "# ---------- STEP 3: Save model ----------\n",
    "def save_model(model, filename='credit_card_fraud_model.pkl'):\n",
    "    with open(filename, 'wb') as file:\n",
    "        pickle.dump(model, file)\n",
    "    print(f\"Model saved to {filename}\")"
   ]
  },
  {
   "cell_type": "code",
   "execution_count": 9,
   "id": "f051c26f-2de1-4128-b642-7c8ed67b20ae",
   "metadata": {},
   "outputs": [],
   "source": [
    "# ---------- STEP 4: Score new data ----------\n",
    "def score_model(input_data, model_path='credit_card_fraud_model.pkl', return_proba=False):\n",
    "    with open(model_path, 'rb') as file:\n",
    "        model = pickle.load(file)\n",
    "\n",
    "    if return_proba:\n",
    "        return model.predict_proba(input_data)\n",
    "    else:\n",
    "        return model.predict(input_data)"
   ]
  },
  {
   "cell_type": "code",
   "execution_count": 13,
   "id": "4e4bf1b5-9e3a-4f6e-afbf-f3b536058aa6",
   "metadata": {},
   "outputs": [],
   "source": [
    "# ---------- STEP 5: Evaluate model ----------\n",
    "def evaluate_model(model, X_test, Y_test):\n",
    "    predictions = model.predict(X_test)\n",
    "    accuracy = accuracy_score(Y_test, predictions)\n",
    "    print(\"Model Accuracy on Test Data:\", acccuracy)\n",
    "    return acc"
   ]
  },
  {
   "cell_type": "code",
   "execution_count": null,
   "id": "48f2561e-ca99-4c3c-923c-727d2697469a",
   "metadata": {},
   "outputs": [],
   "source": [
    "\"\"\"\n",
    "# ---------- RUN PIPELINE ----------\n",
    "\n",
    "if __name__ == '__main__':\n",
    "    # Step 1: Load data\n",
    "    X_train, X_test, Y_train, Y_test = load_data('creditcard.csv')  # <-- change to your file\n",
    "\n",
    "    # Step 2: Train\n",
    "    model = train_model(X_train, Y_train)\n",
    "\n",
    "    # Step 3: Evaluate\n",
    "    evaluate_model(model, X_test, Y_test)\n",
    "\n",
    "    # Step 4: Save\n",
    "    save_model(model)\n",
    "\"\"\""
   ]
  }
 ],
 "metadata": {
  "kernelspec": {
   "display_name": "Python [conda env:base] *",
   "language": "python",
   "name": "conda-base-py"
  },
  "language_info": {
   "codemirror_mode": {
    "name": "ipython",
    "version": 3
   },
   "file_extension": ".py",
   "mimetype": "text/x-python",
   "name": "python",
   "nbconvert_exporter": "python",
   "pygments_lexer": "ipython3",
   "version": "3.12.7"
  }
 },
 "nbformat": 4,
 "nbformat_minor": 5
}
